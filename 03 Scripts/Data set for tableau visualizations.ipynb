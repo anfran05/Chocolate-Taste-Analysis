{
 "cells": [
  {
   "cell_type": "code",
   "execution_count": 1,
   "id": "e207192d",
   "metadata": {},
   "outputs": [],
   "source": [
    "#Import libraries\n",
    "import pandas as pd\n",
    "import numpy as np\n",
    "import seaborn as sns\n",
    "import matplotlib\n",
    "import matplotlib.pyplot as plt\n",
    "import statsmodels.api as sm \n",
    "\n",
    "import os\n",
    "import warnings"
   ]
  },
  {
   "cell_type": "code",
   "execution_count": 2,
   "id": "23c57eb3",
   "metadata": {},
   "outputs": [],
   "source": [
    "#Define path\n",
    "path = r'/Users/anfran/Desktop/Chocolate Rating Project'"
   ]
  },
  {
   "cell_type": "code",
   "execution_count": 3,
   "id": "305c4d48",
   "metadata": {},
   "outputs": [],
   "source": [
    "#Import data\n",
    "df = pd.read_csv(os.path.join(path, '02 Data', 'Prepared Data', 'chocolate_data_clean.csv'), index_col = False)"
   ]
  },
  {
   "cell_type": "code",
   "execution_count": 4,
   "id": "2497d7fe",
   "metadata": {
    "scrolled": true
   },
   "outputs": [
    {
     "data": {
      "text/html": [
       "<div>\n",
       "<style scoped>\n",
       "    .dataframe tbody tr th:only-of-type {\n",
       "        vertical-align: middle;\n",
       "    }\n",
       "\n",
       "    .dataframe tbody tr th {\n",
       "        vertical-align: top;\n",
       "    }\n",
       "\n",
       "    .dataframe thead th {\n",
       "        text-align: right;\n",
       "    }\n",
       "</style>\n",
       "<table border=\"1\" class=\"dataframe\">\n",
       "  <thead>\n",
       "    <tr style=\"text-align: right;\">\n",
       "      <th></th>\n",
       "      <th>Row ID</th>\n",
       "      <th>Company</th>\n",
       "      <th>bean_origin</th>\n",
       "      <th>REF</th>\n",
       "      <th>review_date</th>\n",
       "      <th>cocoa_percent</th>\n",
       "      <th>company_location</th>\n",
       "      <th>Rating</th>\n",
       "      <th>bean_type</th>\n",
       "      <th>broad_bean_origin</th>\n",
       "    </tr>\n",
       "  </thead>\n",
       "  <tbody>\n",
       "    <tr>\n",
       "      <th>0</th>\n",
       "      <td>1177</td>\n",
       "      <td>Neuhaus (Callebaut)</td>\n",
       "      <td>Sao Tome</td>\n",
       "      <td>15</td>\n",
       "      <td>2006</td>\n",
       "      <td>0.75</td>\n",
       "      <td>Belgium</td>\n",
       "      <td>2.75</td>\n",
       "      <td>Forastero</td>\n",
       "      <td>Sao Tome</td>\n",
       "    </tr>\n",
       "    <tr>\n",
       "      <th>1</th>\n",
       "      <td>1292</td>\n",
       "      <td>Pierre Marcolini</td>\n",
       "      <td>Porcelana, Tabasco, Limited Ed.</td>\n",
       "      <td>81</td>\n",
       "      <td>2006</td>\n",
       "      <td>0.72</td>\n",
       "      <td>Belgium</td>\n",
       "      <td>4.00</td>\n",
       "      <td>Criollo</td>\n",
       "      <td>Mexico</td>\n",
       "    </tr>\n",
       "    <tr>\n",
       "      <th>2</th>\n",
       "      <td>1237</td>\n",
       "      <td>Original Hawaiin Chocolate Factory</td>\n",
       "      <td>Hawai'i, Kona Estate Grown</td>\n",
       "      <td>24</td>\n",
       "      <td>2006</td>\n",
       "      <td>0.60</td>\n",
       "      <td>United States</td>\n",
       "      <td>3.00</td>\n",
       "      <td>Unknown</td>\n",
       "      <td>Hawaii</td>\n",
       "    </tr>\n",
       "    <tr>\n",
       "      <th>3</th>\n",
       "      <td>1178</td>\n",
       "      <td>Neuhaus (Callebaut)</td>\n",
       "      <td>Ocumare</td>\n",
       "      <td>24</td>\n",
       "      <td>2006</td>\n",
       "      <td>0.71</td>\n",
       "      <td>Belgium</td>\n",
       "      <td>3.00</td>\n",
       "      <td>Criollo</td>\n",
       "      <td>Venezuela</td>\n",
       "    </tr>\n",
       "    <tr>\n",
       "      <th>4</th>\n",
       "      <td>1176</td>\n",
       "      <td>Neuhaus (Callebaut)</td>\n",
       "      <td>West Africa</td>\n",
       "      <td>15</td>\n",
       "      <td>2006</td>\n",
       "      <td>0.73</td>\n",
       "      <td>Belgium</td>\n",
       "      <td>2.00</td>\n",
       "      <td>Forastero</td>\n",
       "      <td>West Africa</td>\n",
       "    </tr>\n",
       "  </tbody>\n",
       "</table>\n",
       "</div>"
      ],
      "text/plain": [
       "   Row ID                             Company  \\\n",
       "0    1177                 Neuhaus (Callebaut)   \n",
       "1    1292                    Pierre Marcolini   \n",
       "2    1237  Original Hawaiin Chocolate Factory   \n",
       "3    1178                 Neuhaus (Callebaut)   \n",
       "4    1176                 Neuhaus (Callebaut)   \n",
       "\n",
       "                       bean_origin  REF  review_date  cocoa_percent  \\\n",
       "0                         Sao Tome   15         2006           0.75   \n",
       "1  Porcelana, Tabasco, Limited Ed.   81         2006           0.72   \n",
       "2       Hawai'i, Kona Estate Grown   24         2006           0.60   \n",
       "3                          Ocumare   24         2006           0.71   \n",
       "4                      West Africa   15         2006           0.73   \n",
       "\n",
       "  company_location  Rating  bean_type broad_bean_origin  \n",
       "0          Belgium    2.75  Forastero          Sao Tome  \n",
       "1          Belgium    4.00    Criollo            Mexico  \n",
       "2    United States    3.00    Unknown            Hawaii  \n",
       "3          Belgium    3.00    Criollo         Venezuela  \n",
       "4          Belgium    2.00  Forastero       West Africa  "
      ]
     },
     "execution_count": 4,
     "metadata": {},
     "output_type": "execute_result"
    }
   ],
   "source": [
    "df.head()"
   ]
  },
  {
   "cell_type": "code",
   "execution_count": 5,
   "id": "5a80bd97",
   "metadata": {},
   "outputs": [
    {
     "data": {
      "text/plain": [
       "<AxesSubplot:xlabel='Rating', ylabel='Count'>"
      ]
     },
     "execution_count": 5,
     "metadata": {},
     "output_type": "execute_result"
    },
    {
     "data": {
      "image/png": "[encoded data removed]",
      "text/plain": [
       "<Figure size 640x480 with 1 Axes>"
      ]
     },
     "metadata": {},
     "output_type": "display_data"
    }
   ],
   "source": [
    "#Create histrogram for 'Rating'\n",
    "sns.histplot(df['Rating'], bins = 20, kde = True)"
   ]
  },
  {
   "cell_type": "code",
   "execution_count": 6,
   "id": "a20d9d03",
   "metadata": {},
   "outputs": [],
   "source": [
    "#Create ratings flag\n",
    "df.loc[df['Rating'] < 2.0, 'Rating category'] = 'Low rating' \n",
    "df.loc[(df['Rating'] >= 2.0) & (df['Rating'] < 4.0), 'Rating category'] = 'Average rating' \n",
    "df.loc[df['Rating'] >= 4.0, 'Rating category'] = 'High rating'"
   ]
  },
  {
   "cell_type": "code",
   "execution_count": 7,
   "id": "a52b3e81",
   "metadata": {},
   "outputs": [
    {
     "data": {
      "text/html": [
       "<div>\n",
       "<style scoped>\n",
       "    .dataframe tbody tr th:only-of-type {\n",
       "        vertical-align: middle;\n",
       "    }\n",
       "\n",
       "    .dataframe tbody tr th {\n",
       "        vertical-align: top;\n",
       "    }\n",
       "\n",
       "    .dataframe thead th {\n",
       "        text-align: right;\n",
       "    }\n",
       "</style>\n",
       "<table border=\"1\" class=\"dataframe\">\n",
       "  <thead>\n",
       "    <tr style=\"text-align: right;\">\n",
       "      <th></th>\n",
       "      <th>Row ID</th>\n",
       "      <th>Company</th>\n",
       "      <th>bean_origin</th>\n",
       "      <th>REF</th>\n",
       "      <th>review_date</th>\n",
       "      <th>cocoa_percent</th>\n",
       "      <th>company_location</th>\n",
       "      <th>Rating</th>\n",
       "      <th>bean_type</th>\n",
       "      <th>broad_bean_origin</th>\n",
       "      <th>Rating category</th>\n",
       "    </tr>\n",
       "  </thead>\n",
       "  <tbody>\n",
       "    <tr>\n",
       "      <th>0</th>\n",
       "      <td>1177</td>\n",
       "      <td>Neuhaus (Callebaut)</td>\n",
       "      <td>Sao Tome</td>\n",
       "      <td>15</td>\n",
       "      <td>2006</td>\n",
       "      <td>0.75</td>\n",
       "      <td>Belgium</td>\n",
       "      <td>2.75</td>\n",
       "      <td>Forastero</td>\n",
       "      <td>Sao Tome</td>\n",
       "      <td>Average rating</td>\n",
       "    </tr>\n",
       "    <tr>\n",
       "      <th>1</th>\n",
       "      <td>1292</td>\n",
       "      <td>Pierre Marcolini</td>\n",
       "      <td>Porcelana, Tabasco, Limited Ed.</td>\n",
       "      <td>81</td>\n",
       "      <td>2006</td>\n",
       "      <td>0.72</td>\n",
       "      <td>Belgium</td>\n",
       "      <td>4.00</td>\n",
       "      <td>Criollo</td>\n",
       "      <td>Mexico</td>\n",
       "      <td>High rating</td>\n",
       "    </tr>\n",
       "    <tr>\n",
       "      <th>2</th>\n",
       "      <td>1237</td>\n",
       "      <td>Original Hawaiin Chocolate Factory</td>\n",
       "      <td>Hawai'i, Kona Estate Grown</td>\n",
       "      <td>24</td>\n",
       "      <td>2006</td>\n",
       "      <td>0.60</td>\n",
       "      <td>United States</td>\n",
       "      <td>3.00</td>\n",
       "      <td>Unknown</td>\n",
       "      <td>Hawaii</td>\n",
       "      <td>Average rating</td>\n",
       "    </tr>\n",
       "    <tr>\n",
       "      <th>3</th>\n",
       "      <td>1178</td>\n",
       "      <td>Neuhaus (Callebaut)</td>\n",
       "      <td>Ocumare</td>\n",
       "      <td>24</td>\n",
       "      <td>2006</td>\n",
       "      <td>0.71</td>\n",
       "      <td>Belgium</td>\n",
       "      <td>3.00</td>\n",
       "      <td>Criollo</td>\n",
       "      <td>Venezuela</td>\n",
       "      <td>Average rating</td>\n",
       "    </tr>\n",
       "    <tr>\n",
       "      <th>4</th>\n",
       "      <td>1176</td>\n",
       "      <td>Neuhaus (Callebaut)</td>\n",
       "      <td>West Africa</td>\n",
       "      <td>15</td>\n",
       "      <td>2006</td>\n",
       "      <td>0.73</td>\n",
       "      <td>Belgium</td>\n",
       "      <td>2.00</td>\n",
       "      <td>Forastero</td>\n",
       "      <td>West Africa</td>\n",
       "      <td>Average rating</td>\n",
       "    </tr>\n",
       "  </tbody>\n",
       "</table>\n",
       "</div>"
      ],
      "text/plain": [
       "   Row ID                             Company  \\\n",
       "0    1177                 Neuhaus (Callebaut)   \n",
       "1    1292                    Pierre Marcolini   \n",
       "2    1237  Original Hawaiin Chocolate Factory   \n",
       "3    1178                 Neuhaus (Callebaut)   \n",
       "4    1176                 Neuhaus (Callebaut)   \n",
       "\n",
       "                       bean_origin  REF  review_date  cocoa_percent  \\\n",
       "0                         Sao Tome   15         2006           0.75   \n",
       "1  Porcelana, Tabasco, Limited Ed.   81         2006           0.72   \n",
       "2       Hawai'i, Kona Estate Grown   24         2006           0.60   \n",
       "3                          Ocumare   24         2006           0.71   \n",
       "4                      West Africa   15         2006           0.73   \n",
       "\n",
       "  company_location  Rating  bean_type broad_bean_origin Rating category  \n",
       "0          Belgium    2.75  Forastero          Sao Tome  Average rating  \n",
       "1          Belgium    4.00    Criollo            Mexico     High rating  \n",
       "2    United States    3.00    Unknown            Hawaii  Average rating  \n",
       "3          Belgium    3.00    Criollo         Venezuela  Average rating  \n",
       "4          Belgium    2.00  Forastero       West Africa  Average rating  "
      ]
     },
     "execution_count": 7,
     "metadata": {},
     "output_type": "execute_result"
    }
   ],
   "source": [
    "#Check results\n",
    "df.head()"
   ]
  },
  {
   "cell_type": "code",
   "execution_count": 8,
   "id": "25f6170e",
   "metadata": {},
   "outputs": [
    {
     "data": {
      "text/plain": [
       "Index(['Row ID', 'Company', 'bean_origin', 'REF', 'review_date',\n",
       "       'cocoa_percent', 'company_location', 'Rating', 'bean_type',\n",
       "       'broad_bean_origin', 'Rating category'],\n",
       "      dtype='object')"
      ]
     },
     "execution_count": 8,
     "metadata": {},
     "output_type": "execute_result"
    }
   ],
   "source": [
    "df.columns"
   ]
  },
  {
   "cell_type": "code",
   "execution_count": 9,
   "id": "3bc712da",
   "metadata": {},
   "outputs": [
    {
     "data": {
      "text/plain": [
       "<AxesSubplot:xlabel='cocoa_percent', ylabel='Count'>"
      ]
     },
     "execution_count": 9,
     "metadata": {},
     "output_type": "execute_result"
    },
    {
     "data": {
      "image/png": "[encoded data removed]",
      "text/plain": [
       "<Figure size 640x480 with 1 Axes>"
      ]
     },
     "metadata": {},
     "output_type": "display_data"
    }
   ],
   "source": [
    "#Create histrogram for 'cocoa_percent'\n",
    "sns.histplot(df['cocoa_percent'], bins = 20, kde = True)"
   ]
  },
  {
   "cell_type": "code",
   "execution_count": 15,
   "id": "1a1d7f8b",
   "metadata": {},
   "outputs": [],
   "source": [
    "#Create cocoa_percent flag\n",
    "df.loc[df['cocoa_percent'] < 0.6, 'Cocoa percent category'] = 'Low cocoa percent' \n",
    "df.loc[(df['cocoa_percent'] >= 0.6) & (df['cocoa_percent'] < 0.8), 'Cocoa percent category'] = 'Average cocoa percent' \n",
    "df.loc[df['cocoa_percent'] >= 0.8, 'Cocoa percent category'] = 'High cocoa percent'"
   ]
  },
  {
   "cell_type": "code",
   "execution_count": 16,
   "id": "5d221705",
   "metadata": {},
   "outputs": [
    {
     "data": {
      "text/html": [
       "<div>\n",
       "<style scoped>\n",
       "    .dataframe tbody tr th:only-of-type {\n",
       "        vertical-align: middle;\n",
       "    }\n",
       "\n",
       "    .dataframe tbody tr th {\n",
       "        vertical-align: top;\n",
       "    }\n",
       "\n",
       "    .dataframe thead th {\n",
       "        text-align: right;\n",
       "    }\n",
       "</style>\n",
       "<table border=\"1\" class=\"dataframe\">\n",
       "  <thead>\n",
       "    <tr style=\"text-align: right;\">\n",
       "      <th></th>\n",
       "      <th>Row ID</th>\n",
       "      <th>Company</th>\n",
       "      <th>bean_origin</th>\n",
       "      <th>REF</th>\n",
       "      <th>review_date</th>\n",
       "      <th>cocoa_percent</th>\n",
       "      <th>company_location</th>\n",
       "      <th>Rating</th>\n",
       "      <th>bean_type</th>\n",
       "      <th>broad_bean_origin</th>\n",
       "      <th>Rating category</th>\n",
       "      <th>Cocoa percent category</th>\n",
       "    </tr>\n",
       "  </thead>\n",
       "  <tbody>\n",
       "    <tr>\n",
       "      <th>0</th>\n",
       "      <td>1177</td>\n",
       "      <td>Neuhaus (Callebaut)</td>\n",
       "      <td>Sao Tome</td>\n",
       "      <td>15</td>\n",
       "      <td>2006</td>\n",
       "      <td>0.75</td>\n",
       "      <td>Belgium</td>\n",
       "      <td>2.75</td>\n",
       "      <td>Forastero</td>\n",
       "      <td>Sao Tome</td>\n",
       "      <td>Average rating</td>\n",
       "      <td>Average cocoa percent</td>\n",
       "    </tr>\n",
       "    <tr>\n",
       "      <th>1</th>\n",
       "      <td>1292</td>\n",
       "      <td>Pierre Marcolini</td>\n",
       "      <td>Porcelana, Tabasco, Limited Ed.</td>\n",
       "      <td>81</td>\n",
       "      <td>2006</td>\n",
       "      <td>0.72</td>\n",
       "      <td>Belgium</td>\n",
       "      <td>4.00</td>\n",
       "      <td>Criollo</td>\n",
       "      <td>Mexico</td>\n",
       "      <td>High rating</td>\n",
       "      <td>Average cocoa percent</td>\n",
       "    </tr>\n",
       "    <tr>\n",
       "      <th>2</th>\n",
       "      <td>1237</td>\n",
       "      <td>Original Hawaiin Chocolate Factory</td>\n",
       "      <td>Hawai'i, Kona Estate Grown</td>\n",
       "      <td>24</td>\n",
       "      <td>2006</td>\n",
       "      <td>0.60</td>\n",
       "      <td>United States</td>\n",
       "      <td>3.00</td>\n",
       "      <td>Unknown</td>\n",
       "      <td>Hawaii</td>\n",
       "      <td>Average rating</td>\n",
       "      <td>Average cocoa percent</td>\n",
       "    </tr>\n",
       "    <tr>\n",
       "      <th>3</th>\n",
       "      <td>1178</td>\n",
       "      <td>Neuhaus (Callebaut)</td>\n",
       "      <td>Ocumare</td>\n",
       "      <td>24</td>\n",
       "      <td>2006</td>\n",
       "      <td>0.71</td>\n",
       "      <td>Belgium</td>\n",
       "      <td>3.00</td>\n",
       "      <td>Criollo</td>\n",
       "      <td>Venezuela</td>\n",
       "      <td>Average rating</td>\n",
       "      <td>Average cocoa percent</td>\n",
       "    </tr>\n",
       "    <tr>\n",
       "      <th>4</th>\n",
       "      <td>1176</td>\n",
       "      <td>Neuhaus (Callebaut)</td>\n",
       "      <td>West Africa</td>\n",
       "      <td>15</td>\n",
       "      <td>2006</td>\n",
       "      <td>0.73</td>\n",
       "      <td>Belgium</td>\n",
       "      <td>2.00</td>\n",
       "      <td>Forastero</td>\n",
       "      <td>West Africa</td>\n",
       "      <td>Average rating</td>\n",
       "      <td>Average cocoa percent</td>\n",
       "    </tr>\n",
       "  </tbody>\n",
       "</table>\n",
       "</div>"
      ],
      "text/plain": [
       "   Row ID                             Company  \\\n",
       "0    1177                 Neuhaus (Callebaut)   \n",
       "1    1292                    Pierre Marcolini   \n",
       "2    1237  Original Hawaiin Chocolate Factory   \n",
       "3    1178                 Neuhaus (Callebaut)   \n",
       "4    1176                 Neuhaus (Callebaut)   \n",
       "\n",
       "                       bean_origin  REF  review_date  cocoa_percent  \\\n",
       "0                         Sao Tome   15         2006           0.75   \n",
       "1  Porcelana, Tabasco, Limited Ed.   81         2006           0.72   \n",
       "2       Hawai'i, Kona Estate Grown   24         2006           0.60   \n",
       "3                          Ocumare   24         2006           0.71   \n",
       "4                      West Africa   15         2006           0.73   \n",
       "\n",
       "  company_location  Rating  bean_type broad_bean_origin Rating category  \\\n",
       "0          Belgium    2.75  Forastero          Sao Tome  Average rating   \n",
       "1          Belgium    4.00    Criollo            Mexico     High rating   \n",
       "2    United States    3.00    Unknown            Hawaii  Average rating   \n",
       "3          Belgium    3.00    Criollo         Venezuela  Average rating   \n",
       "4          Belgium    2.00  Forastero       West Africa  Average rating   \n",
       "\n",
       "  Cocoa percent category  \n",
       "0  Average cocoa percent  \n",
       "1  Average cocoa percent  \n",
       "2  Average cocoa percent  \n",
       "3  Average cocoa percent  \n",
       "4  Average cocoa percent  "
      ]
     },
     "execution_count": 16,
     "metadata": {},
     "output_type": "execute_result"
    }
   ],
   "source": [
    "df.head()"
   ]
  },
  {
   "cell_type": "code",
   "execution_count": 17,
   "id": "0a69f6ea",
   "metadata": {},
   "outputs": [
    {
     "data": {
      "text/plain": [
       "Index(['Row ID', 'Company', 'bean_origin', 'REF', 'review_date',\n",
       "       'cocoa_percent', 'company_location', 'Rating', 'bean_type',\n",
       "       'broad_bean_origin', 'Rating category', 'Cocoa percent category'],\n",
       "      dtype='object')"
      ]
     },
     "execution_count": 17,
     "metadata": {},
     "output_type": "execute_result"
    }
   ],
   "source": [
    "df.columns"
   ]
  },
  {
   "cell_type": "code",
   "execution_count": 18,
   "id": "436a7bbb",
   "metadata": {},
   "outputs": [],
   "source": [
    "#Export new dataset\n",
    "df.to_csv(os.path.join(path, '02 Data','Prepared Data', 'chocolate_rating_clean_visualizations.csv'))"
   ]
  },
  {
   "cell_type": "code",
   "execution_count": null,
   "id": "a444644a",
   "metadata": {},
   "outputs": [],
   "source": []
  }
 ],
 "metadata": {
  "kernelspec": {
   "display_name": "Python 3 (ipykernel)",
   "language": "python",
   "name": "python3"
  },
  "language_info": {
   "codemirror_mode": {
    "name": "ipython",
    "version": 3
   },
   "file_extension": ".py",
   "mimetype": "text/x-python",
   "name": "python",
   "nbconvert_exporter": "python",
   "pygments_lexer": "ipython3",
   "version": "3.9.13"
  }
 },
 "nbformat": 4,
 "nbformat_minor": 5
}
