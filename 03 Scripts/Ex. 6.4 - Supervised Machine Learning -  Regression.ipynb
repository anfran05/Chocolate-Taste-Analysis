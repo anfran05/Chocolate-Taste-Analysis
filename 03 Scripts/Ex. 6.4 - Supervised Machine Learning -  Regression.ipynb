{
 "cells": [
  {
   "cell_type": "markdown",
   "id": "1cb1ec55",
   "metadata": {},
   "source": [
    "## Exercise 6.4 - Supervised Machine Learning: Regression\n",
    "\n",
    "### Contents\n",
    "\n",
    "#### 1. Import Libraries and Data\n",
    "#### 2. Data Cleaning and Wrangling\n",
    "#### 3. Create Scatterplot\n",
    "#### 4. Hypothesis\n",
    "#### 5. Regression Testing\n",
    "#### 6. Bonus Task"
   ]
  },
  {
   "cell_type": "markdown",
   "id": "d851880a",
   "metadata": {},
   "source": [
    "### 1. Import Libraries and Data"
   ]
  },
  {
   "cell_type": "code",
   "execution_count": 1,
   "id": "2c9b115f",
   "metadata": {},
   "outputs": [],
   "source": [
    "#Import libraries\n",
    "import pandas as pd\n",
    "import numpy as np\n",
    "import seaborn as sns\n",
    "import matplotlib\n",
    "import matplotlib.pyplot as plt\n",
    "import os\n",
    "import sklearn\n",
    "from sklearn.model_selection import train_test_split \n",
    "from sklearn.linear_model import LinearRegression\n",
    "from sklearn.metrics import mean_squared_error, r2_score"
   ]
  },
  {
   "cell_type": "code",
   "execution_count": 2,
   "id": "fd1b8b3b",
   "metadata": {},
   "outputs": [],
   "source": [
    "#Insure graphs are displayed in the notebook\n",
    "%matplotlib inline"
   ]
  },
  {
   "cell_type": "code",
   "execution_count": 3,
   "id": "91d4ca34",
   "metadata": {},
   "outputs": [],
   "source": [
    "#Define path\n",
    "path = r'/Users/anfran/Desktop/Chocolate Rating Project'"
   ]
  },
  {
   "cell_type": "code",
   "execution_count": 4,
   "id": "60683a78",
   "metadata": {},
   "outputs": [],
   "source": [
    "#Import data\n",
    "df = pd.read_csv(os.path.join(path, '02 Data', 'Prepared Data', 'chocolate_data_clean.csv'), index_col = False)"
   ]
  },
  {
   "cell_type": "code",
   "execution_count": 5,
   "id": "5f982e97",
   "metadata": {},
   "outputs": [
    {
     "data": {
      "text/html": [
       "<div>\n",
       "<style scoped>\n",
       "    .dataframe tbody tr th:only-of-type {\n",
       "        vertical-align: middle;\n",
       "    }\n",
       "\n",
       "    .dataframe tbody tr th {\n",
       "        vertical-align: top;\n",
       "    }\n",
       "\n",
       "    .dataframe thead th {\n",
       "        text-align: right;\n",
       "    }\n",
       "</style>\n",
       "<table border=\"1\" class=\"dataframe\">\n",
       "  <thead>\n",
       "    <tr style=\"text-align: right;\">\n",
       "      <th></th>\n",
       "      <th>Row ID</th>\n",
       "      <th>Company</th>\n",
       "      <th>bean_origin</th>\n",
       "      <th>REF</th>\n",
       "      <th>review_date</th>\n",
       "      <th>cocoa_percent</th>\n",
       "      <th>company_location</th>\n",
       "      <th>Rating</th>\n",
       "      <th>bean_type</th>\n",
       "      <th>broad_bean_origin</th>\n",
       "    </tr>\n",
       "  </thead>\n",
       "  <tbody>\n",
       "    <tr>\n",
       "      <th>0</th>\n",
       "      <td>1177</td>\n",
       "      <td>Neuhaus (Callebaut)</td>\n",
       "      <td>Sao Tome</td>\n",
       "      <td>15</td>\n",
       "      <td>2006</td>\n",
       "      <td>0.75</td>\n",
       "      <td>Belgium</td>\n",
       "      <td>2.75</td>\n",
       "      <td>Forastero</td>\n",
       "      <td>Sao Tome</td>\n",
       "    </tr>\n",
       "    <tr>\n",
       "      <th>1</th>\n",
       "      <td>1292</td>\n",
       "      <td>Pierre Marcolini</td>\n",
       "      <td>Porcelana, Tabasco, Limited Ed.</td>\n",
       "      <td>81</td>\n",
       "      <td>2006</td>\n",
       "      <td>0.72</td>\n",
       "      <td>Belgium</td>\n",
       "      <td>4.00</td>\n",
       "      <td>Criollo</td>\n",
       "      <td>Mexico</td>\n",
       "    </tr>\n",
       "    <tr>\n",
       "      <th>2</th>\n",
       "      <td>1237</td>\n",
       "      <td>Original Hawaiin Chocolate Factory</td>\n",
       "      <td>Hawai'i, Kona Estate Grown</td>\n",
       "      <td>24</td>\n",
       "      <td>2006</td>\n",
       "      <td>0.60</td>\n",
       "      <td>United States</td>\n",
       "      <td>3.00</td>\n",
       "      <td>Unknown</td>\n",
       "      <td>Hawaii</td>\n",
       "    </tr>\n",
       "    <tr>\n",
       "      <th>3</th>\n",
       "      <td>1178</td>\n",
       "      <td>Neuhaus (Callebaut)</td>\n",
       "      <td>Ocumare</td>\n",
       "      <td>24</td>\n",
       "      <td>2006</td>\n",
       "      <td>0.71</td>\n",
       "      <td>Belgium</td>\n",
       "      <td>3.00</td>\n",
       "      <td>Criollo</td>\n",
       "      <td>Venezuela</td>\n",
       "    </tr>\n",
       "    <tr>\n",
       "      <th>4</th>\n",
       "      <td>1176</td>\n",
       "      <td>Neuhaus (Callebaut)</td>\n",
       "      <td>West Africa</td>\n",
       "      <td>15</td>\n",
       "      <td>2006</td>\n",
       "      <td>0.73</td>\n",
       "      <td>Belgium</td>\n",
       "      <td>2.00</td>\n",
       "      <td>Forastero</td>\n",
       "      <td>West Africa</td>\n",
       "    </tr>\n",
       "  </tbody>\n",
       "</table>\n",
       "</div>"
      ],
      "text/plain": [
       "   Row ID                             Company  \\\n",
       "0    1177                 Neuhaus (Callebaut)   \n",
       "1    1292                    Pierre Marcolini   \n",
       "2    1237  Original Hawaiin Chocolate Factory   \n",
       "3    1178                 Neuhaus (Callebaut)   \n",
       "4    1176                 Neuhaus (Callebaut)   \n",
       "\n",
       "                       bean_origin  REF  review_date  cocoa_percent  \\\n",
       "0                         Sao Tome   15         2006           0.75   \n",
       "1  Porcelana, Tabasco, Limited Ed.   81         2006           0.72   \n",
       "2       Hawai'i, Kona Estate Grown   24         2006           0.60   \n",
       "3                          Ocumare   24         2006           0.71   \n",
       "4                      West Africa   15         2006           0.73   \n",
       "\n",
       "  company_location  Rating  bean_type broad_bean_origin  \n",
       "0          Belgium    2.75  Forastero          Sao Tome  \n",
       "1          Belgium    4.00    Criollo            Mexico  \n",
       "2    United States    3.00    Unknown            Hawaii  \n",
       "3          Belgium    3.00    Criollo         Venezuela  \n",
       "4          Belgium    2.00  Forastero       West Africa  "
      ]
     },
     "execution_count": 5,
     "metadata": {},
     "output_type": "execute_result"
    }
   ],
   "source": [
    "df.head()"
   ]
  },
  {
   "cell_type": "code",
   "execution_count": 6,
   "id": "6ab16592",
   "metadata": {},
   "outputs": [
    {
     "data": {
      "text/plain": [
       "(1795, 10)"
      ]
     },
     "execution_count": 6,
     "metadata": {},
     "output_type": "execute_result"
    }
   ],
   "source": [
    "df.shape"
   ]
  },
  {
   "cell_type": "markdown",
   "id": "3621365a",
   "metadata": {},
   "source": [
    "### 2. Data Cleaning and Wrangling"
   ]
  },
  {
   "cell_type": "code",
   "execution_count": 7,
   "id": "a225c6f2",
   "metadata": {},
   "outputs": [
    {
     "data": {
      "text/plain": [
       "Index(['Row ID', 'Company', 'bean_origin', 'REF', 'review_date',\n",
       "       'cocoa_percent', 'company_location', 'Rating', 'bean_type',\n",
       "       'broad_bean_origin'],\n",
       "      dtype='object')"
      ]
     },
     "execution_count": 7,
     "metadata": {},
     "output_type": "execute_result"
    }
   ],
   "source": [
    "df.columns"
   ]
  },
  {
   "cell_type": "code",
   "execution_count": 8,
   "id": "e8786a6e",
   "metadata": {},
   "outputs": [
    {
     "data": {
      "text/plain": [
       "Row ID               0\n",
       "Company              0\n",
       "bean_origin          0\n",
       "REF                  0\n",
       "review_date          0\n",
       "cocoa_percent        0\n",
       "company_location     0\n",
       "Rating               0\n",
       "bean_type            0\n",
       "broad_bean_origin    0\n",
       "dtype: int64"
      ]
     },
     "execution_count": 8,
     "metadata": {},
     "output_type": "execute_result"
    }
   ],
   "source": [
    "#Check for missing values\n",
    "df.isnull().sum()"
   ]
  },
  {
   "cell_type": "markdown",
   "id": "99e7115e",
   "metadata": {},
   "source": [
    "No missing values found"
   ]
  },
  {
   "cell_type": "code",
   "execution_count": 9,
   "id": "8d43c643",
   "metadata": {},
   "outputs": [],
   "source": [
    "#Check for duplicates\n",
    "dups = df.duplicated()"
   ]
  },
  {
   "cell_type": "code",
   "execution_count": 10,
   "id": "caf92b08",
   "metadata": {},
   "outputs": [
    {
     "data": {
      "text/plain": [
       "(1795,)"
      ]
     },
     "execution_count": 10,
     "metadata": {},
     "output_type": "execute_result"
    }
   ],
   "source": [
    "dups.shape"
   ]
  },
  {
   "cell_type": "markdown",
   "id": "6cca277a",
   "metadata": {},
   "source": [
    "No duplicates found"
   ]
  },
  {
   "cell_type": "code",
   "execution_count": 11,
   "id": "8a13f9ac",
   "metadata": {},
   "outputs": [
    {
     "name": "stderr",
     "output_type": "stream",
     "text": [
      "/Users/anfran/opt/anaconda3/lib/python3.9/site-packages/seaborn/distributions.py:2619: FutureWarning: `distplot` is a deprecated function and will be removed in a future version. Please adapt your code to use either `displot` (a figure-level function with similar flexibility) or `histplot` (an axes-level function for histograms).\n",
      "  warnings.warn(msg, FutureWarning)\n"
     ]
    },
    {
     "data": {
      "text/plain": [
       "<AxesSubplot:xlabel='Rating', ylabel='Density'>"
      ]
     },
     "execution_count": 11,
     "metadata": {},
     "output_type": "execute_result"
    },
    {
     "data": {
      "image/png": "[encoded data removed]",
      "text/plain": [
       "<Figure size 640x480 with 1 Axes>"
      ]
     },
     "metadata": {},
     "output_type": "display_data"
    }
   ],
   "source": [
    "#Check for extreme values\n",
    "sns.distplot(df['Rating'], bins=25)"
   ]
  },
  {
   "cell_type": "markdown",
   "id": "2ed90d86",
   "metadata": {},
   "source": [
    "No extreme values found"
   ]
  },
  {
   "cell_type": "code",
   "execution_count": 12,
   "id": "c2a3a3d2",
   "metadata": {},
   "outputs": [
    {
     "data": {
      "text/plain": [
       "3.185933147632312"
      ]
     },
     "execution_count": 12,
     "metadata": {},
     "output_type": "execute_result"
    }
   ],
   "source": [
    "#Check basic statistics of 'Rating'\n",
    "df['Rating'].mean()"
   ]
  },
  {
   "cell_type": "code",
   "execution_count": 13,
   "id": "2e70708c",
   "metadata": {},
   "outputs": [
    {
     "data": {
      "text/plain": [
       "3.25"
      ]
     },
     "execution_count": 13,
     "metadata": {},
     "output_type": "execute_result"
    }
   ],
   "source": [
    "df['Rating'].median()"
   ]
  },
  {
   "cell_type": "code",
   "execution_count": 14,
   "id": "25b88b2e",
   "metadata": {},
   "outputs": [
    {
     "data": {
      "text/plain": [
       "1.0"
      ]
     },
     "execution_count": 14,
     "metadata": {},
     "output_type": "execute_result"
    }
   ],
   "source": [
    "df['Rating'].min()"
   ]
  },
  {
   "cell_type": "code",
   "execution_count": 15,
   "id": "f465de99",
   "metadata": {},
   "outputs": [
    {
     "data": {
      "text/plain": [
       "5.0"
      ]
     },
     "execution_count": 15,
     "metadata": {},
     "output_type": "execute_result"
    }
   ],
   "source": [
    "df['Rating'].max()"
   ]
  },
  {
   "cell_type": "code",
   "execution_count": 16,
   "id": "8f005501",
   "metadata": {},
   "outputs": [
    {
     "data": {
      "text/plain": [
       "count    1795.000000\n",
       "mean        3.185933\n",
       "std         0.478062\n",
       "min         1.000000\n",
       "25%         2.875000\n",
       "50%         3.250000\n",
       "75%         3.500000\n",
       "max         5.000000\n",
       "Name: Rating, dtype: float64"
      ]
     },
     "execution_count": 16,
     "metadata": {},
     "output_type": "execute_result"
    }
   ],
   "source": [
    "df['Rating'].describe()"
   ]
  },
  {
   "cell_type": "markdown",
   "id": "52016260",
   "metadata": {},
   "source": [
    "### 3. Create Scatterplot"
   ]
  },
  {
   "cell_type": "code",
   "execution_count": 17,
   "id": "d11704ea",
   "metadata": {},
   "outputs": [
    {
     "data": {
      "image/png": "[encoded data removed]",
      "text/plain": [
       "<Figure size 640x480 with 1 Axes>"
      ]
     },
     "metadata": {},
     "output_type": "display_data"
    }
   ],
   "source": [
    "#Create scatterplot for 'cocoa_percent' and 'Rating'\n",
    "df.plot(x = 'cocoa_percent', y='Rating',style='o') \n",
    "plt.title('Percentage of Cocoa vs Taste Rating')  \n",
    "plt.xlabel('cocoa_percent')  \n",
    "plt.ylabel('Rating')  \n",
    "plt.show()"
   ]
  },
  {
   "cell_type": "code",
   "execution_count": 21,
   "id": "e2f00cda",
   "metadata": {},
   "outputs": [],
   "source": [
    "#Reshape the variables in NumPy\n",
    "X = df['cocoa_percent'].values.reshape(-1,1)\n",
    "Y = df['Rating'].values.reshape(-1,1)"
   ]
  },
  {
   "cell_type": "code",
   "execution_count": 22,
   "id": "61e48e35",
   "metadata": {},
   "outputs": [
    {
     "data": {
      "text/plain": [
       "array([[0.75],\n",
       "       [0.72],\n",
       "       [0.6 ],\n",
       "       ...,\n",
       "       [0.7 ],\n",
       "       [0.77],\n",
       "       [0.7 ]])"
      ]
     },
     "execution_count": 22,
     "metadata": {},
     "output_type": "execute_result"
    }
   ],
   "source": [
    "X"
   ]
  },
  {
   "cell_type": "code",
   "execution_count": 23,
   "id": "7a90cf67",
   "metadata": {},
   "outputs": [
    {
     "data": {
      "text/plain": [
       "array([[2.75],\n",
       "       [4.  ],\n",
       "       [3.  ],\n",
       "       ...,\n",
       "       [3.5 ],\n",
       "       [3.25],\n",
       "       [3.5 ]])"
      ]
     },
     "execution_count": 23,
     "metadata": {},
     "output_type": "execute_result"
    }
   ],
   "source": [
    "Y"
   ]
  },
  {
   "cell_type": "code",
   "execution_count": 24,
   "id": "7f720ee6",
   "metadata": {},
   "outputs": [],
   "source": [
    "#Split data into training set and test set \n",
    "X_train, X_test, Y_train, Y_test = train_test_split(X, Y, test_size=0.3, random_state=0)"
   ]
  },
  {
   "cell_type": "markdown",
   "id": "7d999829",
   "metadata": {},
   "source": [
    "### 4. Hypothesis"
   ]
  },
  {
   "cell_type": "markdown",
   "id": "ad7d48c9",
   "metadata": {},
   "source": [
    "#### If the percentage of cocoa in the chocolate changes, the overall taste rating of the chocolate does not change. "
   ]
  },
  {
   "cell_type": "markdown",
   "id": "529fb97e",
   "metadata": {},
   "source": [
    "### 5. Regression Testing"
   ]
  },
  {
   "cell_type": "code",
   "execution_count": 25,
   "id": "5289bab1",
   "metadata": {},
   "outputs": [],
   "source": [
    "#Create a regression object\n",
    "regression = LinearRegression()"
   ]
  },
  {
   "cell_type": "code",
   "execution_count": 26,
   "id": "f9b79f94",
   "metadata": {},
   "outputs": [
    {
     "data": {
      "text/plain": [
       "LinearRegression()"
      ]
     },
     "execution_count": 26,
     "metadata": {},
     "output_type": "execute_result"
    }
   ],
   "source": [
    "#Apply the regression object to the training set\n",
    "regression.fit(X_train, Y_train)"
   ]
  },
  {
   "cell_type": "code",
   "execution_count": 27,
   "id": "3f40be62",
   "metadata": {},
   "outputs": [],
   "source": [
    "#Use regression model to predict the value of Y using X\n",
    "Y_predicted = regression.predict(X_test)"
   ]
  },
  {
   "cell_type": "code",
   "execution_count": 28,
   "id": "445a37b0",
   "metadata": {},
   "outputs": [
    {
     "data": {
      "image/png": "[encoded data removed]",
      "text/plain": [
       "<Figure size 640x480 with 1 Axes>"
      ]
     },
     "metadata": {},
     "output_type": "display_data"
    }
   ],
   "source": [
    "#Create plot that shows the regression line from the model\n",
    "plot_test = plt\n",
    "plot_test.scatter(X_test, Y_test, color='green', s = 15)\n",
    "plot_test.plot(X_test, Y_predicted, color='red', linewidth =4)\n",
    "plot_test.title('Percentage of Cocoa vs Taste Rating (Test Set)')\n",
    "plot_test.xlabel('Cocoa Percentage')\n",
    "plot_test.ylabel('Taste Rating')\n",
    "plot_test.show()"
   ]
  },
  {
   "cell_type": "markdown",
   "id": "dd39300e",
   "metadata": {},
   "source": [
    "There is a slight negative slope, so there is a slight negative relationship between the percentage of cocoa in the chocolate and the overall test rating. I will check the slope, MSE, and the R2 score for further information."
   ]
  },
  {
   "cell_type": "code",
   "execution_count": 30,
   "id": "156f53ec",
   "metadata": {},
   "outputs": [
    {
     "name": "stdout",
     "output_type": "stream",
     "text": [
      "Slope: [[-1.15640476]]\n",
      "Mean squared error:  0.23997239755854072\n",
      "R2 score:  0.030927401085529937\n"
     ]
    }
   ],
   "source": [
    "#Check the slope, MSE, and the R2 score\n",
    "rmse = mean_squared_error(Y_test, Y_predicted)\n",
    "r2 = r2_score(Y_test, Y_predicted)\n",
    "print('Slope:' ,regression.coef_)\n",
    "print('Mean squared error: ', rmse)\n",
    "print('R2 score: ', r2)"
   ]
  },
  {
   "cell_type": "code",
   "execution_count": 31,
   "id": "8d1ddc28",
   "metadata": {},
   "outputs": [
    {
     "data": {
      "text/plain": [
       "array([[3.23290298],\n",
       "       [3.20977489],\n",
       "       [3.20977489],\n",
       "       [3.20977489],\n",
       "       [3.20977489],\n",
       "       [3.15195465],\n",
       "       [3.03631417],\n",
       "       [3.04787822],\n",
       "       [3.26759513],\n",
       "       [3.15195465],\n",
       "       [3.15195465],\n",
       "       [3.20977489],\n",
       "       [3.20977489],\n",
       "       [3.07100632],\n",
       "       [3.09413441],\n",
       "       [3.20977489],\n",
       "       [3.15195465],\n",
       "       [3.20977489],\n",
       "       [3.20977489],\n",
       "       [3.20977489],\n",
       "       [3.20977489],\n",
       "       [3.20977489],\n",
       "       [3.17508275],\n",
       "       [3.12882656],\n",
       "       [3.19821084],\n",
       "       [3.12882656],\n",
       "       [3.20977489],\n",
       "       [3.26759513],\n",
       "       [3.18664679],\n",
       "       [3.20977489],\n",
       "       [3.18664679],\n",
       "       [3.15195465],\n",
       "       [3.29072322],\n",
       "       [3.15195465],\n",
       "       [3.15195465],\n",
       "       [3.15195465],\n",
       "       [3.20977489],\n",
       "       [3.15195465],\n",
       "       [3.23290298],\n",
       "       [3.18664679],\n",
       "       [3.20977489],\n",
       "       [3.12882656],\n",
       "       [3.20977489],\n",
       "       [3.27915917],\n",
       "       [3.18664679],\n",
       "       [3.18664679],\n",
       "       [3.20977489],\n",
       "       [3.24446703],\n",
       "       [3.20977489],\n",
       "       [3.15195465],\n",
       "       [3.3832356 ],\n",
       "       [3.11726251],\n",
       "       [3.20977489],\n",
       "       [3.1635187 ],\n",
       "       [3.18664679],\n",
       "       [3.26759513],\n",
       "       [3.19821084],\n",
       "       [3.20977489],\n",
       "       [3.23290298],\n",
       "       [3.20977489],\n",
       "       [3.15195465],\n",
       "       [3.23290298],\n",
       "       [3.23290298],\n",
       "       [3.15195465],\n",
       "       [3.18664679],\n",
       "       [3.09413441],\n",
       "       [3.19821084],\n",
       "       [3.20977489],\n",
       "       [3.09413441],\n",
       "       [3.15195465],\n",
       "       [3.20977489],\n",
       "       [3.22133894],\n",
       "       [3.20977489],\n",
       "       [3.15195465],\n",
       "       [3.1635187 ],\n",
       "       [3.18664679],\n",
       "       [3.12882656],\n",
       "       [3.18664679],\n",
       "       [3.20977489],\n",
       "       [3.15195465],\n",
       "       [3.18664679],\n",
       "       [3.1403906 ],\n",
       "       [3.15195465],\n",
       "       [3.09413441],\n",
       "       [3.20977489],\n",
       "       [3.15195465],\n",
       "       [3.20977489],\n",
       "       [3.32541536],\n",
       "       [3.1635187 ],\n",
       "       [3.27915917],\n",
       "       [3.20977489],\n",
       "       [3.03631417],\n",
       "       [3.20977489],\n",
       "       [3.25603108],\n",
       "       [3.26759513],\n",
       "       [3.18664679],\n",
       "       [3.09413441],\n",
       "       [3.26759513],\n",
       "       [3.15195465],\n",
       "       [3.20977489],\n",
       "       [3.03631417],\n",
       "       [3.20977489],\n",
       "       [3.20977489],\n",
       "       [3.17508275],\n",
       "       [3.20977489],\n",
       "       [3.20977489],\n",
       "       [3.19821084],\n",
       "       [3.18664679],\n",
       "       [3.20977489],\n",
       "       [3.1635187 ],\n",
       "       [3.20977489],\n",
       "       [3.20977489],\n",
       "       [3.15195465],\n",
       "       [3.3832356 ],\n",
       "       [3.20977489],\n",
       "       [3.20977489],\n",
       "       [3.20977489],\n",
       "       [3.20977489],\n",
       "       [3.15195465],\n",
       "       [3.20977489],\n",
       "       [3.18664679],\n",
       "       [3.1403906 ],\n",
       "       [3.24446703],\n",
       "       [3.32541536],\n",
       "       [3.20977489],\n",
       "       [3.20977489],\n",
       "       [3.18664679],\n",
       "       [3.15195465],\n",
       "       [3.26759513],\n",
       "       [3.09413441],\n",
       "       [3.26759513],\n",
       "       [3.29072322],\n",
       "       [3.26759513],\n",
       "       [3.32541536],\n",
       "       [3.20977489],\n",
       "       [3.20977489],\n",
       "       [3.20977489],\n",
       "       [3.18664679],\n",
       "       [3.1635187 ],\n",
       "       [3.20977489],\n",
       "       [3.03631417],\n",
       "       [3.32541536],\n",
       "       [3.1403906 ],\n",
       "       [3.12882656],\n",
       "       [3.20977489],\n",
       "       [3.19821084],\n",
       "       [3.18664679],\n",
       "       [3.25603108],\n",
       "       [3.09413441],\n",
       "       [3.20977489],\n",
       "       [3.25603108],\n",
       "       [3.20977489],\n",
       "       [3.23290298],\n",
       "       [3.18664679],\n",
       "       [3.03631417],\n",
       "       [3.07100632],\n",
       "       [3.20977489],\n",
       "       [3.20977489],\n",
       "       [3.20977489],\n",
       "       [3.30228727],\n",
       "       [3.15195465],\n",
       "       [3.20977489],\n",
       "       [2.86285346],\n",
       "       [3.15195465],\n",
       "       [3.18664679],\n",
       "       [3.1403906 ],\n",
       "       [3.20977489],\n",
       "       [3.20977489],\n",
       "       [3.15195465],\n",
       "       [3.15195465],\n",
       "       [3.15195465],\n",
       "       [3.04787822],\n",
       "       [3.20977489],\n",
       "       [3.20977489],\n",
       "       [3.07100632],\n",
       "       [3.18664679],\n",
       "       [3.17508275],\n",
       "       [3.20977489],\n",
       "       [3.20977489],\n",
       "       [3.29072322],\n",
       "       [3.15195465],\n",
       "       [2.87441751],\n",
       "       [3.27915917],\n",
       "       [3.20977489],\n",
       "       [3.20977489],\n",
       "       [3.15195465],\n",
       "       [3.20977489],\n",
       "       [3.18664679],\n",
       "       [3.20977489],\n",
       "       [3.20977489],\n",
       "       [3.1635187 ],\n",
       "       [3.20977489],\n",
       "       [3.20977489],\n",
       "       [3.20977489],\n",
       "       [2.86285346],\n",
       "       [3.25603108],\n",
       "       [3.15195465],\n",
       "       [3.20977489],\n",
       "       [3.20977489],\n",
       "       [3.32541536],\n",
       "       [3.32541536],\n",
       "       [3.18664679],\n",
       "       [3.03631417],\n",
       "       [3.25603108],\n",
       "       [3.26759513],\n",
       "       [2.86285346],\n",
       "       [3.20977489],\n",
       "       [3.20977489],\n",
       "       [3.03631417],\n",
       "       [3.20977489],\n",
       "       [3.15195465],\n",
       "       [3.26759513],\n",
       "       [3.20977489],\n",
       "       [3.20977489],\n",
       "       [3.17508275],\n",
       "       [3.31385132],\n",
       "       [3.20977489],\n",
       "       [3.1403906 ],\n",
       "       [3.26759513],\n",
       "       [3.1403906 ],\n",
       "       [3.18664679],\n",
       "       [3.26759513],\n",
       "       [3.18664679],\n",
       "       [3.19821084],\n",
       "       [3.18664679],\n",
       "       [3.25603108],\n",
       "       [3.18664679],\n",
       "       [3.26759513],\n",
       "       [3.34854346],\n",
       "       [3.20977489],\n",
       "       [3.20977489],\n",
       "       [3.12882656],\n",
       "       [3.20977489],\n",
       "       [3.1635187 ],\n",
       "       [3.09413441],\n",
       "       [3.20977489],\n",
       "       [3.20977489],\n",
       "       [3.18664679],\n",
       "       [3.32541536],\n",
       "       [3.26759513],\n",
       "       [3.15195465],\n",
       "       [3.18664679],\n",
       "       [3.24446703],\n",
       "       [3.09413441],\n",
       "       [3.20977489],\n",
       "       [3.18664679],\n",
       "       [3.20977489],\n",
       "       [3.25603108],\n",
       "       [3.20977489],\n",
       "       [3.20977489],\n",
       "       [3.15195465],\n",
       "       [3.05944227],\n",
       "       [3.20977489],\n",
       "       [3.20977489],\n",
       "       [3.20977489],\n",
       "       [3.15195465],\n",
       "       [3.3832356 ],\n",
       "       [3.18664679],\n",
       "       [3.26759513],\n",
       "       [3.1403906 ],\n",
       "       [3.15195465],\n",
       "       [3.1635187 ],\n",
       "       [3.17508275],\n",
       "       [3.20977489],\n",
       "       [3.15195465],\n",
       "       [3.09413441],\n",
       "       [3.18664679],\n",
       "       [3.27915917],\n",
       "       [3.15195465],\n",
       "       [3.20977489],\n",
       "       [3.3832356 ],\n",
       "       [3.20977489],\n",
       "       [3.23290298],\n",
       "       [3.18664679],\n",
       "       [3.15195465],\n",
       "       [3.17508275],\n",
       "       [3.09413441],\n",
       "       [3.20977489],\n",
       "       [3.1635187 ],\n",
       "       [3.27915917],\n",
       "       [3.20977489],\n",
       "       [3.20977489],\n",
       "       [3.18664679],\n",
       "       [3.18664679],\n",
       "       [3.1403906 ],\n",
       "       [3.20977489],\n",
       "       [3.20977489],\n",
       "       [3.20977489],\n",
       "       [3.32541536],\n",
       "       [3.24446703],\n",
       "       [3.26759513],\n",
       "       [3.17508275],\n",
       "       [3.17508275],\n",
       "       [3.20977489],\n",
       "       [3.20977489],\n",
       "       [3.09413441],\n",
       "       [3.32541536],\n",
       "       [3.20977489],\n",
       "       [3.19821084],\n",
       "       [3.09413441],\n",
       "       [3.20977489],\n",
       "       [3.18664679],\n",
       "       [3.23290298],\n",
       "       [3.08257036],\n",
       "       [3.18664679],\n",
       "       [3.15195465],\n",
       "       [3.23290298],\n",
       "       [3.17508275],\n",
       "       [3.32541536],\n",
       "       [3.26759513],\n",
       "       [3.20977489],\n",
       "       [3.20977489],\n",
       "       [3.26759513],\n",
       "       [3.20977489],\n",
       "       [3.26759513],\n",
       "       [3.20977489],\n",
       "       [3.20977489],\n",
       "       [3.20977489],\n",
       "       [3.18664679],\n",
       "       [3.20977489],\n",
       "       [3.17508275],\n",
       "       [3.20977489],\n",
       "       [3.12882656],\n",
       "       [3.15195465],\n",
       "       [3.32541536],\n",
       "       [3.24446703],\n",
       "       [3.02475013],\n",
       "       [3.20977489],\n",
       "       [3.26759513],\n",
       "       [3.20977489],\n",
       "       [3.18664679],\n",
       "       [3.18664679],\n",
       "       [3.24446703],\n",
       "       [3.27915917],\n",
       "       [3.18664679],\n",
       "       [3.18664679],\n",
       "       [3.15195465],\n",
       "       [2.86285346],\n",
       "       [3.09413441],\n",
       "       [3.44105584],\n",
       "       [3.26759513],\n",
       "       [3.20977489],\n",
       "       [3.24446703],\n",
       "       [3.20977489],\n",
       "       [3.1635187 ],\n",
       "       [3.20977489],\n",
       "       [3.20977489],\n",
       "       [3.27915917],\n",
       "       [3.3832356 ],\n",
       "       [3.20977489],\n",
       "       [3.20977489],\n",
       "       [3.20977489],\n",
       "       [3.20977489],\n",
       "       [3.15195465],\n",
       "       [3.32541536],\n",
       "       [3.18664679],\n",
       "       [3.26759513],\n",
       "       [3.20977489],\n",
       "       [3.20977489],\n",
       "       [3.20977489],\n",
       "       [3.1403906 ],\n",
       "       [3.20977489],\n",
       "       [3.20977489],\n",
       "       [3.09413441],\n",
       "       [3.09413441],\n",
       "       [3.27915917],\n",
       "       [3.18664679],\n",
       "       [3.24446703],\n",
       "       [3.15195465],\n",
       "       [3.18664679],\n",
       "       [3.18664679],\n",
       "       [3.20977489],\n",
       "       [3.27915917],\n",
       "       [3.18664679],\n",
       "       [3.1635187 ],\n",
       "       [3.25603108],\n",
       "       [3.20977489],\n",
       "       [3.03631417],\n",
       "       [3.20977489],\n",
       "       [3.20977489],\n",
       "       [3.20977489],\n",
       "       [3.20977489],\n",
       "       [3.15195465],\n",
       "       [3.00162203],\n",
       "       [3.15195465],\n",
       "       [3.15195465],\n",
       "       [3.23290298],\n",
       "       [3.18664679],\n",
       "       [3.29072322],\n",
       "       [3.15195465],\n",
       "       [3.20977489],\n",
       "       [3.04787822],\n",
       "       [3.20977489],\n",
       "       [3.18664679],\n",
       "       [3.20977489],\n",
       "       [3.15195465],\n",
       "       [3.20977489],\n",
       "       [3.20977489],\n",
       "       [3.20977489],\n",
       "       [3.18664679],\n",
       "       [3.20977489],\n",
       "       [3.15195465],\n",
       "       [3.15195465],\n",
       "       [3.20977489],\n",
       "       [3.05944227],\n",
       "       [3.20977489],\n",
       "       [3.20977489],\n",
       "       [3.15195465],\n",
       "       [2.99005798],\n",
       "       [3.20977489],\n",
       "       [3.19821084],\n",
       "       [3.18664679],\n",
       "       [3.09413441],\n",
       "       [3.12882656],\n",
       "       [3.09413441],\n",
       "       [3.20977489],\n",
       "       [3.26759513],\n",
       "       [3.22133894],\n",
       "       [3.20977489],\n",
       "       [3.20977489],\n",
       "       [3.20977489],\n",
       "       [3.18664679],\n",
       "       [3.22133894],\n",
       "       [3.18664679],\n",
       "       [3.20977489],\n",
       "       [3.15195465],\n",
       "       [3.24446703],\n",
       "       [3.18664679],\n",
       "       [3.24446703],\n",
       "       [3.20977489],\n",
       "       [3.20977489],\n",
       "       [3.18664679],\n",
       "       [3.18664679],\n",
       "       [3.09413441],\n",
       "       [3.1635187 ],\n",
       "       [3.22133894],\n",
       "       [3.18664679],\n",
       "       [3.20977489],\n",
       "       [3.15195465],\n",
       "       [3.20977489],\n",
       "       [3.24446703],\n",
       "       [3.20977489],\n",
       "       [3.20977489],\n",
       "       [3.32541536],\n",
       "       [3.11726251],\n",
       "       [3.20977489],\n",
       "       [3.20977489],\n",
       "       [3.15195465],\n",
       "       [3.23290298],\n",
       "       [3.18664679],\n",
       "       [3.20977489],\n",
       "       [3.20977489],\n",
       "       [3.18664679],\n",
       "       [3.19821084],\n",
       "       [3.20977489],\n",
       "       [3.18664679],\n",
       "       [3.26759513],\n",
       "       [3.20977489],\n",
       "       [3.20977489],\n",
       "       [3.1635187 ],\n",
       "       [3.20977489],\n",
       "       [3.30228727],\n",
       "       [3.15195465],\n",
       "       [3.20977489],\n",
       "       [3.20977489],\n",
       "       [3.20977489],\n",
       "       [3.25603108],\n",
       "       [3.17508275],\n",
       "       [3.20977489],\n",
       "       [3.03631417],\n",
       "       [3.15195465],\n",
       "       [3.15195465],\n",
       "       [3.20977489],\n",
       "       [3.20977489],\n",
       "       [3.15195465],\n",
       "       [3.18664679],\n",
       "       [3.07100632],\n",
       "       [3.20977489],\n",
       "       [3.20977489],\n",
       "       [3.20977489],\n",
       "       [3.12882656],\n",
       "       [3.3832356 ],\n",
       "       [2.86285346],\n",
       "       [3.18664679],\n",
       "       [3.20977489],\n",
       "       [3.18664679],\n",
       "       [3.20977489],\n",
       "       [3.20977489],\n",
       "       [3.27915917],\n",
       "       [3.20977489],\n",
       "       [3.12882656],\n",
       "       [3.15195465],\n",
       "       [3.20977489],\n",
       "       [3.18664679],\n",
       "       [3.20977489],\n",
       "       [3.20977489],\n",
       "       [3.31385132],\n",
       "       [3.3832356 ],\n",
       "       [3.20977489],\n",
       "       [3.17508275],\n",
       "       [3.20977489],\n",
       "       [3.11726251],\n",
       "       [3.20977489],\n",
       "       [3.20977489],\n",
       "       [3.20977489],\n",
       "       [3.20977489],\n",
       "       [3.15195465],\n",
       "       [3.20977489],\n",
       "       [3.1635187 ],\n",
       "       [3.18664679],\n",
       "       [3.32541536],\n",
       "       [3.31385132],\n",
       "       [3.20977489],\n",
       "       [3.15195465],\n",
       "       [3.20977489],\n",
       "       [3.20977489],\n",
       "       [3.15195465],\n",
       "       [3.20977489],\n",
       "       [3.15195465],\n",
       "       [3.15195465],\n",
       "       [3.3832356 ],\n",
       "       [3.20977489],\n",
       "       [3.20977489],\n",
       "       [3.20977489],\n",
       "       [3.20977489],\n",
       "       [3.20977489],\n",
       "       [3.15195465],\n",
       "       [3.1635187 ],\n",
       "       [3.18664679],\n",
       "       [3.15195465],\n",
       "       [3.20977489],\n",
       "       [2.97849394],\n",
       "       [3.1635187 ],\n",
       "       [3.15195465],\n",
       "       [3.15195465],\n",
       "       [3.20977489],\n",
       "       [3.20977489],\n",
       "       [3.17508275],\n",
       "       [3.26759513]])"
      ]
     },
     "execution_count": 31,
     "metadata": {},
     "output_type": "execute_result"
    }
   ],
   "source": [
    "Y_predicted"
   ]
  },
  {
   "cell_type": "code",
   "execution_count": 32,
   "id": "4bc2e7b1",
   "metadata": {},
   "outputs": [
    {
     "data": {
      "text/html": [
       "<div>\n",
       "<style scoped>\n",
       "    .dataframe tbody tr th:only-of-type {\n",
       "        vertical-align: middle;\n",
       "    }\n",
       "\n",
       "    .dataframe tbody tr th {\n",
       "        vertical-align: top;\n",
       "    }\n",
       "\n",
       "    .dataframe thead th {\n",
       "        text-align: right;\n",
       "    }\n",
       "</style>\n",
       "<table border=\"1\" class=\"dataframe\">\n",
       "  <thead>\n",
       "    <tr style=\"text-align: right;\">\n",
       "      <th></th>\n",
       "      <th>Actual</th>\n",
       "      <th>Predicted</th>\n",
       "    </tr>\n",
       "  </thead>\n",
       "  <tbody>\n",
       "    <tr>\n",
       "      <th>0</th>\n",
       "      <td>3.50</td>\n",
       "      <td>3.232903</td>\n",
       "    </tr>\n",
       "    <tr>\n",
       "      <th>1</th>\n",
       "      <td>3.25</td>\n",
       "      <td>3.209775</td>\n",
       "    </tr>\n",
       "    <tr>\n",
       "      <th>2</th>\n",
       "      <td>3.50</td>\n",
       "      <td>3.209775</td>\n",
       "    </tr>\n",
       "    <tr>\n",
       "      <th>3</th>\n",
       "      <td>3.50</td>\n",
       "      <td>3.209775</td>\n",
       "    </tr>\n",
       "    <tr>\n",
       "      <th>4</th>\n",
       "      <td>3.00</td>\n",
       "      <td>3.209775</td>\n",
       "    </tr>\n",
       "    <tr>\n",
       "      <th>5</th>\n",
       "      <td>4.00</td>\n",
       "      <td>3.151955</td>\n",
       "    </tr>\n",
       "    <tr>\n",
       "      <th>6</th>\n",
       "      <td>2.75</td>\n",
       "      <td>3.036314</td>\n",
       "    </tr>\n",
       "    <tr>\n",
       "      <th>7</th>\n",
       "      <td>2.25</td>\n",
       "      <td>3.047878</td>\n",
       "    </tr>\n",
       "    <tr>\n",
       "      <th>8</th>\n",
       "      <td>3.25</td>\n",
       "      <td>3.267595</td>\n",
       "    </tr>\n",
       "    <tr>\n",
       "      <th>9</th>\n",
       "      <td>2.75</td>\n",
       "      <td>3.151955</td>\n",
       "    </tr>\n",
       "    <tr>\n",
       "      <th>10</th>\n",
       "      <td>2.75</td>\n",
       "      <td>3.151955</td>\n",
       "    </tr>\n",
       "    <tr>\n",
       "      <th>11</th>\n",
       "      <td>3.75</td>\n",
       "      <td>3.209775</td>\n",
       "    </tr>\n",
       "    <tr>\n",
       "      <th>12</th>\n",
       "      <td>2.75</td>\n",
       "      <td>3.209775</td>\n",
       "    </tr>\n",
       "    <tr>\n",
       "      <th>13</th>\n",
       "      <td>2.00</td>\n",
       "      <td>3.071006</td>\n",
       "    </tr>\n",
       "    <tr>\n",
       "      <th>14</th>\n",
       "      <td>3.00</td>\n",
       "      <td>3.094134</td>\n",
       "    </tr>\n",
       "    <tr>\n",
       "      <th>15</th>\n",
       "      <td>2.75</td>\n",
       "      <td>3.209775</td>\n",
       "    </tr>\n",
       "    <tr>\n",
       "      <th>16</th>\n",
       "      <td>3.00</td>\n",
       "      <td>3.151955</td>\n",
       "    </tr>\n",
       "    <tr>\n",
       "      <th>17</th>\n",
       "      <td>3.25</td>\n",
       "      <td>3.209775</td>\n",
       "    </tr>\n",
       "    <tr>\n",
       "      <th>18</th>\n",
       "      <td>3.25</td>\n",
       "      <td>3.209775</td>\n",
       "    </tr>\n",
       "    <tr>\n",
       "      <th>19</th>\n",
       "      <td>4.00</td>\n",
       "      <td>3.209775</td>\n",
       "    </tr>\n",
       "    <tr>\n",
       "      <th>20</th>\n",
       "      <td>3.00</td>\n",
       "      <td>3.209775</td>\n",
       "    </tr>\n",
       "    <tr>\n",
       "      <th>21</th>\n",
       "      <td>3.00</td>\n",
       "      <td>3.209775</td>\n",
       "    </tr>\n",
       "    <tr>\n",
       "      <th>22</th>\n",
       "      <td>3.50</td>\n",
       "      <td>3.175083</td>\n",
       "    </tr>\n",
       "    <tr>\n",
       "      <th>23</th>\n",
       "      <td>3.00</td>\n",
       "      <td>3.128827</td>\n",
       "    </tr>\n",
       "    <tr>\n",
       "      <th>24</th>\n",
       "      <td>3.75</td>\n",
       "      <td>3.198211</td>\n",
       "    </tr>\n",
       "    <tr>\n",
       "      <th>25</th>\n",
       "      <td>3.00</td>\n",
       "      <td>3.128827</td>\n",
       "    </tr>\n",
       "    <tr>\n",
       "      <th>26</th>\n",
       "      <td>3.50</td>\n",
       "      <td>3.209775</td>\n",
       "    </tr>\n",
       "    <tr>\n",
       "      <th>27</th>\n",
       "      <td>2.75</td>\n",
       "      <td>3.267595</td>\n",
       "    </tr>\n",
       "    <tr>\n",
       "      <th>28</th>\n",
       "      <td>2.75</td>\n",
       "      <td>3.186647</td>\n",
       "    </tr>\n",
       "    <tr>\n",
       "      <th>29</th>\n",
       "      <td>4.00</td>\n",
       "      <td>3.209775</td>\n",
       "    </tr>\n",
       "    <tr>\n",
       "      <th>30</th>\n",
       "      <td>3.00</td>\n",
       "      <td>3.186647</td>\n",
       "    </tr>\n",
       "    <tr>\n",
       "      <th>31</th>\n",
       "      <td>2.75</td>\n",
       "      <td>3.151955</td>\n",
       "    </tr>\n",
       "    <tr>\n",
       "      <th>32</th>\n",
       "      <td>2.75</td>\n",
       "      <td>3.290723</td>\n",
       "    </tr>\n",
       "    <tr>\n",
       "      <th>33</th>\n",
       "      <td>4.00</td>\n",
       "      <td>3.151955</td>\n",
       "    </tr>\n",
       "    <tr>\n",
       "      <th>34</th>\n",
       "      <td>4.00</td>\n",
       "      <td>3.151955</td>\n",
       "    </tr>\n",
       "    <tr>\n",
       "      <th>35</th>\n",
       "      <td>3.00</td>\n",
       "      <td>3.151955</td>\n",
       "    </tr>\n",
       "    <tr>\n",
       "      <th>36</th>\n",
       "      <td>2.75</td>\n",
       "      <td>3.209775</td>\n",
       "    </tr>\n",
       "    <tr>\n",
       "      <th>37</th>\n",
       "      <td>3.50</td>\n",
       "      <td>3.151955</td>\n",
       "    </tr>\n",
       "    <tr>\n",
       "      <th>38</th>\n",
       "      <td>3.50</td>\n",
       "      <td>3.232903</td>\n",
       "    </tr>\n",
       "    <tr>\n",
       "      <th>39</th>\n",
       "      <td>4.00</td>\n",
       "      <td>3.186647</td>\n",
       "    </tr>\n",
       "    <tr>\n",
       "      <th>40</th>\n",
       "      <td>3.75</td>\n",
       "      <td>3.209775</td>\n",
       "    </tr>\n",
       "    <tr>\n",
       "      <th>41</th>\n",
       "      <td>2.75</td>\n",
       "      <td>3.128827</td>\n",
       "    </tr>\n",
       "    <tr>\n",
       "      <th>42</th>\n",
       "      <td>3.75</td>\n",
       "      <td>3.209775</td>\n",
       "    </tr>\n",
       "    <tr>\n",
       "      <th>43</th>\n",
       "      <td>3.50</td>\n",
       "      <td>3.279159</td>\n",
       "    </tr>\n",
       "    <tr>\n",
       "      <th>44</th>\n",
       "      <td>3.25</td>\n",
       "      <td>3.186647</td>\n",
       "    </tr>\n",
       "    <tr>\n",
       "      <th>45</th>\n",
       "      <td>4.00</td>\n",
       "      <td>3.186647</td>\n",
       "    </tr>\n",
       "    <tr>\n",
       "      <th>46</th>\n",
       "      <td>3.75</td>\n",
       "      <td>3.209775</td>\n",
       "    </tr>\n",
       "    <tr>\n",
       "      <th>47</th>\n",
       "      <td>2.75</td>\n",
       "      <td>3.244467</td>\n",
       "    </tr>\n",
       "    <tr>\n",
       "      <th>48</th>\n",
       "      <td>3.00</td>\n",
       "      <td>3.209775</td>\n",
       "    </tr>\n",
       "    <tr>\n",
       "      <th>49</th>\n",
       "      <td>4.00</td>\n",
       "      <td>3.151955</td>\n",
       "    </tr>\n",
       "  </tbody>\n",
       "</table>\n",
       "</div>"
      ],
      "text/plain": [
       "    Actual  Predicted\n",
       "0     3.50   3.232903\n",
       "1     3.25   3.209775\n",
       "2     3.50   3.209775\n",
       "3     3.50   3.209775\n",
       "4     3.00   3.209775\n",
       "5     4.00   3.151955\n",
       "6     2.75   3.036314\n",
       "7     2.25   3.047878\n",
       "8     3.25   3.267595\n",
       "9     2.75   3.151955\n",
       "10    2.75   3.151955\n",
       "11    3.75   3.209775\n",
       "12    2.75   3.209775\n",
       "13    2.00   3.071006\n",
       "14    3.00   3.094134\n",
       "15    2.75   3.209775\n",
       "16    3.00   3.151955\n",
       "17    3.25   3.209775\n",
       "18    3.25   3.209775\n",
       "19    4.00   3.209775\n",
       "20    3.00   3.209775\n",
       "21    3.00   3.209775\n",
       "22    3.50   3.175083\n",
       "23    3.00   3.128827\n",
       "24    3.75   3.198211\n",
       "25    3.00   3.128827\n",
       "26    3.50   3.209775\n",
       "27    2.75   3.267595\n",
       "28    2.75   3.186647\n",
       "29    4.00   3.209775\n",
       "30    3.00   3.186647\n",
       "31    2.75   3.151955\n",
       "32    2.75   3.290723\n",
       "33    4.00   3.151955\n",
       "34    4.00   3.151955\n",
       "35    3.00   3.151955\n",
       "36    2.75   3.209775\n",
       "37    3.50   3.151955\n",
       "38    3.50   3.232903\n",
       "39    4.00   3.186647\n",
       "40    3.75   3.209775\n",
       "41    2.75   3.128827\n",
       "42    3.75   3.209775\n",
       "43    3.50   3.279159\n",
       "44    3.25   3.186647\n",
       "45    4.00   3.186647\n",
       "46    3.75   3.209775\n",
       "47    2.75   3.244467\n",
       "48    3.00   3.209775\n",
       "49    4.00   3.151955"
      ]
     },
     "execution_count": 32,
     "metadata": {},
     "output_type": "execute_result"
    }
   ],
   "source": [
    "#Create a dataframe showing the actual results with the predicted results\n",
    "data = pd.DataFrame({'Actual': Y_test.flatten(), 'Predicted': Y_predicted.flatten()})\n",
    "data.head(50)"
   ]
  },
  {
   "cell_type": "markdown",
   "id": "600cef5f",
   "metadata": {},
   "source": [
    "Even though the predicted results are fairly close to the actual results, the R2 score is 0.03, meaning an extremely low correlation, proving my hypothesis. "
   ]
  },
  {
   "cell_type": "code",
   "execution_count": 33,
   "id": "0aaf2871",
   "metadata": {},
   "outputs": [],
   "source": [
    "#Predict the results\n",
    "Y_predicted_train = regression.predict(X_train)"
   ]
  },
  {
   "cell_type": "code",
   "execution_count": 34,
   "id": "477da826",
   "metadata": {},
   "outputs": [],
   "source": [
    "rmse = mean_squared_error(Y_train, Y_predicted_train)\n",
    "r2 = r2_score(Y_train, Y_predicted_train)"
   ]
  },
  {
   "cell_type": "code",
   "execution_count": 35,
   "id": "35a7c40e",
   "metadata": {},
   "outputs": [
    {
     "name": "stdout",
     "output_type": "stream",
     "text": [
      "Slope: [[-1.15640476]]\n",
      "Mean squared error:  0.21463868841235828\n",
      "R2 score:  0.024996130220139023\n"
     ]
    }
   ],
   "source": [
    "#Check the slope, MSE, and the R2 score\n",
    "print('Slope:' ,regression.coef_)\n",
    "print('Mean squared error: ', rmse)\n",
    "print('R2 score: ', r2)"
   ]
  },
  {
   "cell_type": "markdown",
   "id": "e001a3dc",
   "metadata": {},
   "source": [
    "This produced an even lower R2 score than before. There are obviously more factors at play in influencing the taste of the chocolate that cocoa percentage alone. "
   ]
  },
  {
   "cell_type": "code",
   "execution_count": 36,
   "id": "d9690b6a",
   "metadata": {},
   "outputs": [
    {
     "data": {
      "image/png": "[encoded data removed]",
      "text/plain": [
       "<Figure size 640x480 with 1 Axes>"
      ]
     },
     "metadata": {},
     "output_type": "display_data"
    }
   ],
   "source": [
    "#Visualize the results\n",
    "plot_test = plt\n",
    "plot_test.scatter(X_train, Y_train, color='green', s = 15)\n",
    "plot_test.plot(X_train, Y_predicted_train, color='red', linewidth =3)\n",
    "plot_test.title('Percentage of Cocoa vs Taste Rating (Training set)')\n",
    "plot_test.xlabel('Percentage of Cocoa')\n",
    "plot_test.ylabel('Taste Rating')\n",
    "plot_test.show()"
   ]
  },
  {
   "cell_type": "markdown",
   "id": "c28a9133",
   "metadata": {},
   "source": [
    "I'm not sure how bias could be present. I do not believe that is an issue here. "
   ]
  },
  {
   "cell_type": "markdown",
   "id": "837a928c",
   "metadata": {},
   "source": [
    "### 6. Bonus Task\n",
    "\n",
    "#### I know that this is not required for the task. However, these steps were contained in the sample notebook for the exercise, so I wanted to attempt them for practice and feedback. "
   ]
  },
  {
   "cell_type": "code",
   "execution_count": 39,
   "id": "71cfa15f",
   "metadata": {},
   "outputs": [],
   "source": [
    "#Clean values less than 2.0\n",
    "df_test = df[df['Rating'] >=2.0] "
   ]
  },
  {
   "cell_type": "code",
   "execution_count": 40,
   "id": "7be0ad62",
   "metadata": {},
   "outputs": [
    {
     "data": {
      "image/png": "[encoded data removed]",
      "text/plain": [
       "<Figure size 640x480 with 1 Axes>"
      ]
     },
     "metadata": {},
     "output_type": "display_data"
    }
   ],
   "source": [
    "#Visualize the scatterplot without values lower than 2.0\n",
    "df_test.plot(x = 'cocoa_percent', y='Rating', style='o')  \n",
    "plt.title('Percentage of Cocoa vs Taste Rating')  \n",
    "plt.xlabel('Percentage of Cocoa')  \n",
    "plt.ylabel('Rating')  \n",
    "plt.show()"
   ]
  },
  {
   "cell_type": "code",
   "execution_count": 41,
   "id": "6bd15de4",
   "metadata": {},
   "outputs": [],
   "source": [
    "#Reshape\n",
    "X_2 = df_test['cocoa_percent'].values.reshape(-1,1)\n",
    "Y_2 = df_test['Rating'].values.reshape(-1,1)"
   ]
  },
  {
   "cell_type": "code",
   "execution_count": 43,
   "id": "1718d6bb",
   "metadata": {},
   "outputs": [],
   "source": [
    "X_train_2, X_test_2, Y_train_2, Y_test_2 = train_test_split(X_2, Y_2, test_size=0.3, random_state=0)"
   ]
  },
  {
   "cell_type": "code",
   "execution_count": 44,
   "id": "4f3bf810",
   "metadata": {},
   "outputs": [
    {
     "data": {
      "text/plain": [
       "LinearRegression()"
      ]
     },
     "execution_count": 44,
     "metadata": {},
     "output_type": "execute_result"
    }
   ],
   "source": [
    "#Run and fit the regression model\n",
    "regression = LinearRegression()  \n",
    "regression.fit(X_train_2, Y_train_2)"
   ]
  },
  {
   "cell_type": "code",
   "execution_count": 45,
   "id": "453ccd5d",
   "metadata": {},
   "outputs": [],
   "source": [
    "#Run prediction\n",
    "Y_predicted_2 = regression.predict(X_test_2)"
   ]
  },
  {
   "cell_type": "code",
   "execution_count": 47,
   "id": "afd09853",
   "metadata": {},
   "outputs": [
    {
     "name": "stdout",
     "output_type": "stream",
     "text": [
      "Slope: [[-0.84601871]]\n",
      "Mean squared error:  0.20941205525803047\n",
      "R2 score:  0.007573580144709879\n"
     ]
    }
   ],
   "source": [
    "rmse = mean_squared_error(Y_test_2, Y_predicted_2)\n",
    "r2 = r2_score(Y_test_2, Y_predicted_2)\n",
    "print('Slope:' ,regression.coef_)\n",
    "print('Mean squared error: ', rmse)\n",
    "print('R2 score: ', r2)"
   ]
  },
  {
   "cell_type": "code",
   "execution_count": 48,
   "id": "b5437846",
   "metadata": {},
   "outputs": [
    {
     "data": {
      "image/png": "[encoded data removed]",
      "text/plain": [
       "<Figure size 640x480 with 1 Axes>"
      ]
     },
     "metadata": {},
     "output_type": "display_data"
    }
   ],
   "source": [
    "# Visualize the results\n",
    "plot_test = plt\n",
    "plot_test.scatter(X_test_2, Y_test_2, color='green', s = 15)\n",
    "plot_test.plot(X_test_2, Y_predicted_2, color='red', linewidth =3)\n",
    "plot_test.title('Percentage of Cocoa vs Taste Rating (Test set)')\n",
    "plot_test.xlabel('Percentage of Cocoa')\n",
    "plot_test.ylabel('Rating')\n",
    "plot_test.show()"
   ]
  },
  {
   "cell_type": "code",
   "execution_count": 49,
   "id": "1d37f2b6",
   "metadata": {},
   "outputs": [
    {
     "data": {
      "text/html": [
       "<div>\n",
       "<style scoped>\n",
       "    .dataframe tbody tr th:only-of-type {\n",
       "        vertical-align: middle;\n",
       "    }\n",
       "\n",
       "    .dataframe tbody tr th {\n",
       "        vertical-align: top;\n",
       "    }\n",
       "\n",
       "    .dataframe thead th {\n",
       "        text-align: right;\n",
       "    }\n",
       "</style>\n",
       "<table border=\"1\" class=\"dataframe\">\n",
       "  <thead>\n",
       "    <tr style=\"text-align: right;\">\n",
       "      <th></th>\n",
       "      <th>Actual</th>\n",
       "      <th>Predicted</th>\n",
       "    </tr>\n",
       "  </thead>\n",
       "  <tbody>\n",
       "    <tr>\n",
       "      <th>0</th>\n",
       "      <td>3.25</td>\n",
       "      <td>3.222752</td>\n",
       "    </tr>\n",
       "    <tr>\n",
       "      <th>1</th>\n",
       "      <td>3.25</td>\n",
       "      <td>3.188911</td>\n",
       "    </tr>\n",
       "    <tr>\n",
       "      <th>2</th>\n",
       "      <td>3.50</td>\n",
       "      <td>3.222752</td>\n",
       "    </tr>\n",
       "    <tr>\n",
       "      <th>3</th>\n",
       "      <td>3.00</td>\n",
       "      <td>3.222752</td>\n",
       "    </tr>\n",
       "    <tr>\n",
       "      <th>4</th>\n",
       "      <td>3.25</td>\n",
       "      <td>3.222752</td>\n",
       "    </tr>\n",
       "    <tr>\n",
       "      <th>5</th>\n",
       "      <td>3.25</td>\n",
       "      <td>3.222752</td>\n",
       "    </tr>\n",
       "    <tr>\n",
       "      <th>6</th>\n",
       "      <td>2.50</td>\n",
       "      <td>3.180451</td>\n",
       "    </tr>\n",
       "    <tr>\n",
       "      <th>7</th>\n",
       "      <td>3.00</td>\n",
       "      <td>3.205832</td>\n",
       "    </tr>\n",
       "    <tr>\n",
       "      <th>8</th>\n",
       "      <td>3.75</td>\n",
       "      <td>3.205832</td>\n",
       "    </tr>\n",
       "    <tr>\n",
       "      <th>9</th>\n",
       "      <td>3.25</td>\n",
       "      <td>3.222752</td>\n",
       "    </tr>\n",
       "    <tr>\n",
       "      <th>10</th>\n",
       "      <td>3.50</td>\n",
       "      <td>3.222752</td>\n",
       "    </tr>\n",
       "    <tr>\n",
       "      <th>11</th>\n",
       "      <td>3.50</td>\n",
       "      <td>3.222752</td>\n",
       "    </tr>\n",
       "    <tr>\n",
       "      <th>12</th>\n",
       "      <td>4.00</td>\n",
       "      <td>3.188911</td>\n",
       "    </tr>\n",
       "    <tr>\n",
       "      <th>13</th>\n",
       "      <td>2.50</td>\n",
       "      <td>3.265053</td>\n",
       "    </tr>\n",
       "    <tr>\n",
       "      <th>14</th>\n",
       "      <td>3.50</td>\n",
       "      <td>3.205832</td>\n",
       "    </tr>\n",
       "    <tr>\n",
       "      <th>15</th>\n",
       "      <td>3.50</td>\n",
       "      <td>3.205832</td>\n",
       "    </tr>\n",
       "    <tr>\n",
       "      <th>16</th>\n",
       "      <td>3.50</td>\n",
       "      <td>3.265053</td>\n",
       "    </tr>\n",
       "    <tr>\n",
       "      <th>17</th>\n",
       "      <td>3.50</td>\n",
       "      <td>3.121230</td>\n",
       "    </tr>\n",
       "    <tr>\n",
       "      <th>18</th>\n",
       "      <td>3.50</td>\n",
       "      <td>3.138150</td>\n",
       "    </tr>\n",
       "    <tr>\n",
       "      <th>19</th>\n",
       "      <td>2.25</td>\n",
       "      <td>3.155071</td>\n",
       "    </tr>\n",
       "    <tr>\n",
       "      <th>20</th>\n",
       "      <td>2.75</td>\n",
       "      <td>3.239672</td>\n",
       "    </tr>\n",
       "    <tr>\n",
       "      <th>21</th>\n",
       "      <td>2.50</td>\n",
       "      <td>3.349655</td>\n",
       "    </tr>\n",
       "    <tr>\n",
       "      <th>22</th>\n",
       "      <td>2.75</td>\n",
       "      <td>3.265053</td>\n",
       "    </tr>\n",
       "    <tr>\n",
       "      <th>23</th>\n",
       "      <td>2.00</td>\n",
       "      <td>3.121230</td>\n",
       "    </tr>\n",
       "    <tr>\n",
       "      <th>24</th>\n",
       "      <td>3.25</td>\n",
       "      <td>3.222752</td>\n",
       "    </tr>\n",
       "  </tbody>\n",
       "</table>\n",
       "</div>"
      ],
      "text/plain": [
       "    Actual  Predicted\n",
       "0     3.25   3.222752\n",
       "1     3.25   3.188911\n",
       "2     3.50   3.222752\n",
       "3     3.00   3.222752\n",
       "4     3.25   3.222752\n",
       "5     3.25   3.222752\n",
       "6     2.50   3.180451\n",
       "7     3.00   3.205832\n",
       "8     3.75   3.205832\n",
       "9     3.25   3.222752\n",
       "10    3.50   3.222752\n",
       "11    3.50   3.222752\n",
       "12    4.00   3.188911\n",
       "13    2.50   3.265053\n",
       "14    3.50   3.205832\n",
       "15    3.50   3.205832\n",
       "16    3.50   3.265053\n",
       "17    3.50   3.121230\n",
       "18    3.50   3.138150\n",
       "19    2.25   3.155071\n",
       "20    2.75   3.239672\n",
       "21    2.50   3.349655\n",
       "22    2.75   3.265053\n",
       "23    2.00   3.121230\n",
       "24    3.25   3.222752"
      ]
     },
     "execution_count": 49,
     "metadata": {},
     "output_type": "execute_result"
    }
   ],
   "source": [
    "#Create a dataframe showing the actual results with the predicted results\n",
    "data = pd.DataFrame({'Actual': Y_test_2.flatten(), 'Predicted': Y_predicted_2.flatten()})\n",
    "data.head(25)"
   ]
  },
  {
   "cell_type": "markdown",
   "id": "13bf95f9",
   "metadata": {},
   "source": [
    "Considering the R2 score is extremely low, these results are worse than the original. "
   ]
  },
  {
   "cell_type": "code",
   "execution_count": null,
   "id": "1eed69cb",
   "metadata": {},
   "outputs": [],
   "source": []
  }
 ],
 "metadata": {
  "kernelspec": {
   "display_name": "Python 3 (ipykernel)",
   "language": "python",
   "name": "python3"
  },
  "language_info": {
   "codemirror_mode": {
    "name": "ipython",
    "version": 3
   },
   "file_extension": ".py",
   "mimetype": "text/x-python",
   "name": "python",
   "nbconvert_exporter": "python",
   "pygments_lexer": "ipython3",
   "version": "3.9.13"
  }
 },
 "nbformat": 4,
 "nbformat_minor": 5
}
